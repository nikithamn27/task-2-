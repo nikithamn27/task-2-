{
  "nbformat": 4,
  "nbformat_minor": 0,
  "metadata": {
    "colab": {
      "provenance": [],
      "authorship_tag": "ABX9TyPT9IOLCZywErKK4K2Ye1DD",
      "include_colab_link": true
    },
    "kernelspec": {
      "name": "python3",
      "display_name": "Python 3"
    },
    "language_info": {
      "name": "python"
    }
  },
  "cells": [
    {
      "cell_type": "markdown",
      "metadata": {
        "id": "view-in-github",
        "colab_type": "text"
      },
      "source": [
        "<a href=\"https://colab.research.google.com/github/nikithamn27/task-2-/blob/main/task_2.ipynb\" target=\"_parent\"><img src=\"https://colab.research.google.com/assets/colab-badge.svg\" alt=\"Open In Colab\"/></a>"
      ]
    },
    {
      "cell_type": "code",
      "execution_count": null,
      "metadata": {
        "colab": {
          "base_uri": "https://localhost:8080/"
        },
        "id": "1iXW3J7fNizS",
        "outputId": "4e2c5330-e069-474e-8d83-eaa7b3d6ca7f"
      },
      "outputs": [
        {
          "output_type": "stream",
          "name": "stdout",
          "text": [
            "Collecting pycryptodome\n",
            "  Downloading pycryptodome-3.22.0-cp37-abi3-manylinux_2_17_x86_64.manylinux2014_x86_64.whl.metadata (3.4 kB)\n",
            "Requirement already satisfied: cryptography in /usr/local/lib/python3.11/dist-packages (43.0.3)\n",
            "Requirement already satisfied: cffi>=1.12 in /usr/local/lib/python3.11/dist-packages (from cryptography) (1.17.1)\n",
            "Requirement already satisfied: pycparser in /usr/local/lib/python3.11/dist-packages (from cffi>=1.12->cryptography) (2.22)\n",
            "Downloading pycryptodome-3.22.0-cp37-abi3-manylinux_2_17_x86_64.manylinux2014_x86_64.whl (2.3 MB)\n",
            "\u001b[2K   \u001b[90m━━━━━━━━━━━━━━━━━━━━━━━━━━━━━━━━━━━━━━━━\u001b[0m \u001b[32m2.3/2.3 MB\u001b[0m \u001b[31m17.4 MB/s\u001b[0m eta \u001b[36m0:00:00\u001b[0m\n",
            "\u001b[?25hInstalling collected packages: pycryptodome\n",
            "Successfully installed pycryptodome-3.22.0\n"
          ]
        }
      ],
      "source": [
        "# Install necessary libraries in Google Colab\n",
        "!pip install pycryptodome cryptography\n"
      ]
    },
    {
      "cell_type": "code",
      "source": [
        "from Crypto.PublicKey import RSA\n",
        "from Crypto.Cipher import AES\n",
        "from Crypto.Random import get_random_bytes\n",
        "from Crypto.Signature import pkcs1_15\n",
        "from Crypto.Hash import SHA256\n",
        "import base64\n",
        "import json\n",
        "from datetime import datetime, timedelta\n",
        "from cryptography.hazmat.primitives.asymmetric import dh\n",
        "from cryptography.hazmat.primitives.kdf.hkdf import HKDF\n",
        "from cryptography.hazmat.primitives import serialization, hashes\n",
        "\n",
        "# Key expiration settings\n",
        "KEY_EXPIRATION_DAYS = 30\n",
        "revoked_keys = set()  # Store revoked keys in-memory (Colab resets files)\n",
        "\n",
        "# Function to generate RSA keys\n",
        "def gen_rsa_keys():\n",
        "    key = RSA.generate(2048)\n",
        "    private_key = key.export_key()\n",
        "    public_key = key.publickey().export_key()\n",
        "    expiry_date = datetime.now() + timedelta(days=KEY_EXPIRATION_DAYS)\n",
        "    return private_key, public_key, expiry_date\n",
        "\n",
        "# Check key expiration\n",
        "def is_expired(expiry_date):\n",
        "    return datetime.now() > expiry_date\n",
        "\n",
        "# Generate Diffie-Hellman parameters and key pairs\n",
        "def gen_dhpara():\n",
        "    return dh.generate_parameters(generator=2, key_size=2048)\n",
        "\n",
        "def gen_keypair(parameters):\n",
        "    private_key = parameters.generate_private_key()\n",
        "    public_key = private_key.public_key()\n",
        "    return private_key, public_key\n",
        "\n",
        "def serialize_publickey(public_key):\n",
        "    return public_key.public_bytes(\n",
        "        encoding=serialization.Encoding.PEM,\n",
        "        format=serialization.PublicFormat.SubjectPublicKeyInfo\n",
        "    )\n",
        "\n",
        "# Derive shared secret using Diffie-Hellman key exchange\n",
        "def derive_shared(private_key, peer_public_key_bytes):\n",
        "    peer_public_key = serialization.load_pem_public_key(peer_public_key_bytes)\n",
        "    shared_key = private_key.exchange(peer_public_key)\n",
        "    hkdf = HKDF(algorithm=hashes.SHA256(), length=16, salt=None, info=b\"dh-key-exchange\")\n",
        "    return hkdf.derive(shared_key)\n",
        "\n",
        "# Key revocation (using in-memory storage)\n",
        "def revoke_key(key_identifier):\n",
        "    revoked_keys.add(key_identifier)\n",
        "\n",
        "def is_revoked(key_identifier):\n",
        "    return key_identifier in revoked_keys\n",
        "\n",
        "# AES Encryption and Decryption\n",
        "def encrypt(aes_key, message):\n",
        "    cipher = AES.new(aes_key, AES.MODE_GCM)\n",
        "    ciphertext, tag = cipher.encrypt_and_digest(message.encode('utf-8'))\n",
        "    return base64.b64encode(cipher.nonce + tag + ciphertext)\n",
        "\n",
        "def decrypt(aes_key, encrypted_message):\n",
        "    decoded = base64.b64decode(encrypted_message)\n",
        "    nonce, tag, ciphertext = decoded[:16], decoded[16:32], decoded[32:]\n",
        "    cipher = AES.new(aes_key, AES.MODE_GCM, nonce=nonce)\n",
        "    return cipher.decrypt_and_verify(ciphertext, tag).decode('utf-8')\n",
        "\n",
        "# RSA Digital Signature\n",
        "def sign_message(private_key, message):\n",
        "    key = RSA.import_key(private_key)\n",
        "    h = SHA256.new(message.encode())\n",
        "    signature = pkcs1_15.new(key).sign(h)\n",
        "    return base64.b64encode(signature)\n",
        "\n",
        "def verify_signature(public_key, message, signature):\n",
        "    key = RSA.import_key(public_key)\n",
        "    h = SHA256.new(message.encode())\n",
        "    try:\n",
        "        pkcs1_15.new(key).verify(h, base64.b64decode(signature))\n",
        "        return True\n",
        "    except (ValueError, TypeError):\n",
        "        return False\n",
        "\n",
        "# ==== MAIN PROCESS ====\n",
        "print(\"\\n--- Generating RSA Keys for Users ---\")\n",
        "userA_private, userA_public, userA_expiry = gen_rsa_keys()\n",
        "userB_private, userB_public, userB_expiry = gen_rsa_keys()\n",
        "\n",
        "print(\"\\n--- Generating Diffie-Hellman Parameters and Keys ---\")\n",
        "dh_parameters = gen_dhpara()\n",
        "userA_dh_private, userA_dh_public = gen_keypair(dh_parameters)\n",
        "userB_dh_private, userB_dh_public = gen_keypair(dh_parameters)\n",
        "\n",
        "userA_dh_public_bytes = serialize_publickey(userA_dh_public)\n",
        "userB_dh_public_bytes = serialize_publickey(userB_dh_public)\n",
        "\n",
        "print(\"\\n--- Deriving Shared AES Key using Diffie-Hellman ---\")\n",
        "aes_key_A = derive_shared(userA_dh_private, userB_dh_public_bytes)\n",
        "aes_key_B = derive_shared(userB_dh_private, userA_dh_public_bytes)\n",
        "\n",
        "message = \"Hello, this is INS task.\"\n",
        "print(\"\\n--- Encrypting Message using AES ---\")\n",
        "encrypted_message = encrypt(aes_key_A, message)\n",
        "print(\"Encrypted Message:\", encrypted_message.decode())\n",
        "\n",
        "print(\"\\n--- Decrypting Message at User B's Side ---\")\n",
        "decrypted_message = decrypt(aes_key_B, encrypted_message)\n",
        "print(\"Decrypted Message:\", decrypted_message)\n",
        "\n",
        "signature = sign_message(userA_private, message)\n",
        "print(\"\\n--- Verifying Digital Signature ---\")\n",
        "print(\"Signature Verified?\", verify_signature(userA_public, message, signature))\n",
        "\n",
        "print(\"\\n--- Checking Key Expiration and Revocation ---\")\n",
        "if is_expired(userA_expiry):\n",
        "    revoke_key(\"userA_private\")\n",
        "print(\"Is User A's Key Revoked?\", is_revoked(\"userA_private\"))\n"
      ],
      "metadata": {
        "colab": {
          "base_uri": "https://localhost:8080/"
        },
        "id": "nQy43mpCZO7v",
        "outputId": "bd274b81-e080-403d-9e06-a9da98b707ea"
      },
      "execution_count": null,
      "outputs": [
        {
          "output_type": "stream",
          "name": "stdout",
          "text": [
            "\n",
            "--- Generating RSA Keys for Users ---\n",
            "\n",
            "--- Generating Diffie-Hellman Parameters and Keys ---\n",
            "\n",
            "--- Deriving Shared AES Key using Diffie-Hellman ---\n",
            "\n",
            "--- Encrypting Message using AES ---\n",
            "Encrypted Message: yjrilJrgms8bjaY1YnbF8Y31TgscYRRQjRkPCs2Hll3X5fvRIzPobl45pk8fXAPS1TbFquMiCW0=\n",
            "\n",
            "--- Decrypting Message at User B's Side ---\n",
            "Decrypted Message: Hello, this is INS task.\n",
            "\n",
            "--- Verifying Digital Signature ---\n",
            "Signature Verified? True\n",
            "\n",
            "--- Checking Key Expiration and Revocation ---\n",
            "Is User A's Key Revoked? False\n"
          ]
        }
      ]
    }
  ]
}